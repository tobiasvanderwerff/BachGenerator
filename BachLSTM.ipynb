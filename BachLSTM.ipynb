{
 "cells": [
  {
   "cell_type": "code",
   "execution_count": 1,
   "metadata": {},
   "outputs": [],
   "source": [
    "%reload_ext autoreload\n",
    "%autoreload 2\n",
    "%matplotlib inline"
   ]
  },
  {
   "cell_type": "code",
   "execution_count": 2,
   "metadata": {},
   "outputs": [],
   "source": [
    "import gc\n",
    "import math\n",
    "import time\n",
    "import pickle\n",
    "import json\n",
    "import random\n",
    "from pathlib import Path \n",
    "\n",
    "import numpy as np\n",
    "import pandas as pd\n",
    "from IPython.core.debugger import set_trace\n",
    "\n",
    "import torch\n",
    "import torch.nn as nn\n",
    "import torch.nn.functional as F\n",
    "import torch.optim as optim\n",
    "from torch.utils.data import Dataset, DataLoader\n",
    "\n",
    "from src.util import *\n",
    "from src.lr_finder import LRFinder "
   ]
  },
  {
   "cell_type": "code",
   "execution_count": 3,
   "metadata": {},
   "outputs": [],
   "source": [
    "set_seed(2020) # make deterministic "
   ]
  },
  {
   "cell_type": "code",
   "execution_count": 4,
   "metadata": {},
   "outputs": [],
   "source": [
    "device = 'cuda:0'\n",
    "# device = 'cpu'"
   ]
  },
  {
   "cell_type": "code",
   "execution_count": 5,
   "metadata": {},
   "outputs": [],
   "source": [
    "path = Path.cwd()\n",
    "path.mkdir(exist_ok=True)"
   ]
  },
  {
   "cell_type": "code",
   "execution_count": 6,
   "metadata": {},
   "outputs": [],
   "source": [
    "data = []\n",
    "for file in (path/'data'/'encoded').iterdir():\n",
    "    data.append(file.read_text())"
   ]
  },
  {
   "cell_type": "code",
   "execution_count": 7,
   "metadata": {},
   "outputs": [
    {
     "name": "stdout",
     "output_type": "stream",
     "text": [
      "L FL FL FL FL L L IL IL IL IL IL IL L L BL BL BL BL BL BL B B BW BW BW BW BW BW     FU FU FU FU FU FU F F FS FS FS FS FS FS     BU BU BU BU BU BU B B BL BL BL BL BL BL     GK GK GK GK GK GK K K FK FK FK FK FK FK     DW DW DW DW DW DW W W BW BW BW BW BW BW W W DW DW DW DW DW DW W W GW GW GW GW GW GW W W AW AW AW AW AW AW A A AU AU AU AU AU AU     DS DS DS DS DS DS D D DR DR DR DR DR DR     IS IS IS IS IS IS I I I# I# I# I# I# I#     BR BR BR BR BR BR BR BR BDR BDR BDR BDR BDR BDR R R BFR BFR BFR \n"
     ]
    }
   ],
   "source": [
    "print(data[0][1000:1500]) # show some (encoded) data"
   ]
  },
  {
   "cell_type": "markdown",
   "metadata": {},
   "source": [
    "# Preprocessing"
   ]
  },
  {
   "cell_type": "markdown",
   "metadata": {},
   "source": [
    "### MIDI Encoding"
   ]
  },
  {
   "cell_type": "markdown",
   "metadata": {},
   "source": [
    "All the midi files are encoded into strings of ascii characters. Every one of the 88 keys on a keyboard are encoded into an ascii character, in order to make it easier to work with the data (specifically numericalization becomes easier). The 'data' directory already contains an encoded version of the midi files, so now we load the encoding such that we can convert the encoded files into note values and vice versa.\n",
    "\n",
    "Note that this is the encoding used for turning midi files into strings of ascii characters. The encoding\n",
    "that will be used later to numericalize the data is different than this one. "
   ]
  },
  {
   "cell_type": "code",
   "execution_count": 8,
   "metadata": {},
   "outputs": [],
   "source": [
    "tokens = list(sorted(set(''.join(data))))"
   ]
  },
  {
   "cell_type": "code",
   "execution_count": 9,
   "metadata": {},
   "outputs": [],
   "source": [
    "with open(path/'encoding.json', 'r') as f:\n",
    "    note_to_enc = json.load(f)\n",
    "note_to_enc = {int(k): v for k, v in note_to_enc.items()}\n",
    "enc_to_note = {v: k for k, v in note_to_enc.items()}"
   ]
  },
  {
   "cell_type": "code",
   "execution_count": 10,
   "metadata": {},
   "outputs": [
    {
     "name": "stdout",
     "output_type": "stream",
     "text": [
      "21:0 22:1 23:2 24:3 25:4 26:5 27:6 28:7 29:8 30:9 31:a 32:b 33:c 34:d 35:e 36:f 37:g 38:h 39:i 40:j 41:k 42:l 43:m 44:n 45:o 46:p 47:q 48:r 49:s 50:t 51:u 52:v 53:w 54:x 55:y 56:z 57:A 58:B 59:C 60:D 61:E 62:F 63:G 64:H 65:I 66:J 67:K 68:L 69:M 70:N 71:O 72:P 73:Q 74:R 75:S 76:T 77:U 78:V 79:W 80:X 81:Y 82:Z 83:! 84:# 85:$ 86:% 87:& 88:( 89:) 90:* 91:+ 92:, 93:- 94:. 95:/ 96:: 97:; 98:< 99:= 100:> 101:? 102:@ 103:[ 104:] 105:^ 106:_ 107:` 108:{ "
     ]
    },
    {
     "data": {
      "text/plain": [
       "88"
      ]
     },
     "execution_count": 10,
     "metadata": {},
     "output_type": "execute_result"
    }
   ],
   "source": [
    "for k, v in note_to_enc.items(): \n",
    "    print(f\"{k}:{v}\", end=' ')  # one item for each of the 88 keys on the piano\n",
    "len(note_to_enc)"
   ]
  },
  {
   "cell_type": "markdown",
   "metadata": {},
   "source": [
    "### Data Augmentation"
   ]
  },
  {
   "cell_type": "markdown",
   "metadata": {},
   "source": [
    "For increasing the effective size of the dataset, we use data augmentation. Specifically, we tranpose each note up one halfstep for each augmentation. We first extend the token set to include the additional tokens that arise due to transposition. The actual data augmentation happens during the training process."
   ]
  },
  {
   "cell_type": "code",
   "execution_count": 14,
   "metadata": {},
   "outputs": [],
   "source": [
    "max_transpose = 1  # how many times to tranpose the notes in that dataset"
   ]
  },
  {
   "cell_type": "code",
   "execution_count": 15,
   "metadata": {},
   "outputs": [],
   "source": [
    "# Add additional tokens not present in the dataset that occur due to music transposition.\n",
    "highest_note = max(enc_to_note[n] for n in tokens if n != ' ')\n",
    "tokens.extend([note_to_enc[n] for n in range(highest_note+1, highest_note+max_transpose+1)])"
   ]
  },
  {
   "cell_type": "code",
   "execution_count": 16,
   "metadata": {},
   "outputs": [
    {
     "name": "stdout",
     "output_type": "stream",
     "text": [
      "68\n",
      " !#$%&()*+,-./:ABCDEFGHIJKLMNOPQRSTUVWXYZacdefghijklmnopqrstuvwxyz;<"
     ]
    }
   ],
   "source": [
    "# Note that not all 88 piano keys are used for the music contained in the dataset. This is because \n",
    "# Bach's keyboard music was written for harpsichords, which have less than 88 keys. \n",
    "print(len(tokens)) \n",
    "for c in tokens: print(c, end='')  "
   ]
  },
  {
   "cell_type": "markdown",
   "metadata": {},
   "source": [
    "### Numericalization"
   ]
  },
  {
   "cell_type": "markdown",
   "metadata": {},
   "source": [
    "Encode the ascii tokens into integers such that they can be fed into the LSTM."
   ]
  },
  {
   "cell_type": "code",
   "execution_count": 17,
   "metadata": {},
   "outputs": [],
   "source": [
    "idx_to_enc = dict(enumerate(tokens))\n",
    "enc_to_idx = {v: k for k, v in idx_to_enc.items()}"
   ]
  },
  {
   "cell_type": "code",
   "execution_count": 18,
   "metadata": {},
   "outputs": [],
   "source": [
    "data_enc = [np.array([enc_to_idx[ch] for ch in m_str]) for m_str in data]"
   ]
  },
  {
   "cell_type": "markdown",
   "metadata": {},
   "source": [
    "# Data loading"
   ]
  },
  {
   "cell_type": "code",
   "execution_count": 19,
   "metadata": {},
   "outputs": [],
   "source": [
    "def get_data(data, max_transpose, seq_len=100, shuffle=True, augmentation=True):\n",
    "    \"\"\" Shuffle and pad the numericalized data and organize it into batches of size seq_len. \"\"\"\n",
    "    \n",
    "    # Padding at end of each piece of music. We do this to more clearly seperate the individual music pieces.\n",
    "    padding = np.array(30 * [enc_to_idx[' ']])\n",
    "    data = [np.concatenate([seq, padding]) for seq in data]\n",
    "    \n",
    "    if shuffle: \n",
    "        data = np.random.permutation(data)\n",
    "    \n",
    "    if augmentation:\n",
    "        data_trnsp = []\n",
    "        for steps in range(max_transpose + 1):       \n",
    "            for i, song in enumerate(data):\n",
    "                mask = steps * (data[i] != 0) \n",
    "                data_trnsp.append(data[i] + mask)\n",
    "        data = data_trnsp\n",
    "    \n",
    "    data = np.concatenate(data)\n",
    "    X = np.array([data[i*seq_len:(i+1)*seq_len] for i in range(len(data) // seq_len)])\n",
    "    Y = np.zeros_like(X)\n",
    "    Y[:, :-1] = X[:, 1:]\n",
    "    Y[:-1, -1] = X[1:, 0]\n",
    "    return X, Y"
   ]
  },
  {
   "cell_type": "code",
   "execution_count": 21,
   "metadata": {},
   "outputs": [],
   "source": [
    "# Create train/eval split from the data.\n",
    "random.shuffle(data_enc)\n",
    "eval_idx = math.ceil(0.8 * len(data_enc))\n",
    "data_train = data_enc[:eval_idx]\n",
    "data_eval = data_enc[eval_idx:]"
   ]
  },
  {
   "cell_type": "code",
   "execution_count": 22,
   "metadata": {},
   "outputs": [
    {
     "data": {
      "text/plain": [
       "(115, 28)"
      ]
     },
     "execution_count": 22,
     "metadata": {},
     "output_type": "execute_result"
    }
   ],
   "source": [
    "len(data_train), len(data_eval)  # number of songs per dataset"
   ]
  },
  {
   "cell_type": "markdown",
   "metadata": {},
   "source": [
    "# Model"
   ]
  },
  {
   "cell_type": "markdown",
   "metadata": {},
   "source": [
    "We use a character level LSTM, which takes as input a single encoded note, and outputs a probability \n",
    "distribution over the range of possible notes. The way we then sample from the trained LSTM goes as follows. \n",
    "We use top_k sampling to pick a note from the output distribution of the LSTM. This note is then fed\n",
    "back into the network, which can consequently be used to predict the note after that. This way we can\n",
    "sample from the LSTM indefinitely."
   ]
  },
  {
   "cell_type": "code",
   "execution_count": 23,
   "metadata": {},
   "outputs": [],
   "source": [
    "class CharLSTM(nn.Module):\n",
    "    def __init__(self, hidden_dim, wordvec_dim, vocab_size, n_layers=2, bidirectional=False, dropout=0.1):\n",
    "        super().__init__()\n",
    "        self.vocab_size = vocab_size\n",
    "        self.wordvec_dim = wordvec_dim\n",
    "        self.hidden_dim = hidden_dim\n",
    "        self.n_layers = n_layers\n",
    "        self.n_directions = 2 if bidirectional else 1\n",
    "        \n",
    "        self.emb = nn.Embedding(vocab_size, wordvec_dim)\n",
    "        self.lstm = nn.LSTM(wordvec_dim, hidden_dim, n_layers, batch_first=True)\n",
    "        self.fc = nn.Linear(hidden_dim, vocab_size)\n",
    "        self.dropout = nn.Dropout(dropout)\n",
    "        \n",
    "    def forward(self, x, hc):\n",
    "        emb = self.emb(x)\n",
    "        hs, hc_n = self.lstm(emb, hc)\n",
    "        hs = self.dropout(hs)\n",
    "        logits = self.fc(hs).squeeze()\n",
    "        return logits, hc_n"
   ]
  },
  {
   "cell_type": "code",
   "execution_count": 95,
   "metadata": {
    "scrolled": true
   },
   "outputs": [
    {
     "data": {
      "text/plain": [
       "CharLSTM(\n",
       "  (emb): Embedding(68, 512)\n",
       "  (lstm): LSTM(512, 512, num_layers=2, batch_first=True)\n",
       "  (fc): Linear(in_features=512, out_features=68, bias=True)\n",
       "  (dropout): Dropout(p=0.1, inplace=False)\n",
       ")"
      ]
     },
     "execution_count": 95,
     "metadata": {},
     "output_type": "execute_result"
    }
   ],
   "source": [
    "n_layers = 2\n",
    "hidden_dim = 512\n",
    "wordvec_dim = 512\n",
    "net = CharLSTM(hidden_dim, wordvec_dim, len(tokens), n_layers)\n",
    "net.to(device)"
   ]
  },
  {
   "cell_type": "code",
   "execution_count": 96,
   "metadata": {},
   "outputs": [
    {
     "data": {
      "text/plain": [
       "4272196"
      ]
     },
     "execution_count": 96,
     "metadata": {},
     "output_type": "execute_result"
    }
   ],
   "source": [
    "count_parameters(net)"
   ]
  },
  {
   "cell_type": "code",
   "execution_count": 97,
   "metadata": {},
   "outputs": [],
   "source": [
    "criterion = nn.CrossEntropyLoss()\n",
    "optimizer = optim.SGD(net.parameters(), lr=0.01, momentum=0.9)"
   ]
  },
  {
   "cell_type": "code",
   "execution_count": 104,
   "metadata": {},
   "outputs": [],
   "source": [
    "epochs = 9"
   ]
  },
  {
   "cell_type": "code",
   "execution_count": 105,
   "metadata": {},
   "outputs": [],
   "source": [
    "train_sample = get_data(data_train, max_transpose)"
   ]
  },
  {
   "cell_type": "code",
   "execution_count": 106,
   "metadata": {},
   "outputs": [],
   "source": [
    "batches_per_epoch = train_sample[0].shape[0]"
   ]
  },
  {
   "cell_type": "code",
   "execution_count": 107,
   "metadata": {},
   "outputs": [],
   "source": [
    "scheduler = None"
   ]
  },
  {
   "cell_type": "code",
   "execution_count": 108,
   "metadata": {},
   "outputs": [],
   "source": [
    "lr_finder = LRFinder(net, optimizer, criterion, scheduler)\n",
    "lst_data_X, lst_data_Y = [list(dat) for dat in train_sample]\n",
    "lr_finder.lr_find_lstm(zip(lst_data_X, lst_data_Y), bs=1, num_it=200, device=device)"
   ]
  },
  {
   "cell_type": "code",
   "execution_count": 109,
   "metadata": {},
   "outputs": [
    {
     "data": {
      "image/png": "[encoded data removed]",
      "text/plain": [
       "<Figure size 432x288 with 1 Axes>"
      ]
     },
     "metadata": {
      "needs_background": "light"
     },
     "output_type": "display_data"
    }
   ],
   "source": [
    "lr_finder.plot()"
   ]
  },
  {
   "cell_type": "code",
   "execution_count": 110,
   "metadata": {},
   "outputs": [],
   "source": [
    "scheduler = optim.lr_scheduler.OneCycleLR(\n",
    "    optimizer, \n",
    "    max_lr=2e-1, \n",
    "    steps_per_epoch=train_sample[0].reshape(-1).shape[0], \n",
    "    epochs=epochs\n",
    ")"
   ]
  },
  {
   "cell_type": "code",
   "execution_count": 111,
   "metadata": {},
   "outputs": [],
   "source": [
    "def loss_batch(net, criterion, xb, yb, hc, optimizer=None, scheduler=None, grad_clip=5):\n",
    "    logits, (h_next, c_next) = net(xb, hc)\n",
    "    loss = criterion(logits, yb)\n",
    "    n_correct = (torch.max(logits, dim=1)[1] == yb).sum().item()\n",
    "\n",
    "    if optimizer is not None:\n",
    "        optimizer.zero_grad()\n",
    "        loss.backward()\n",
    "        nn.utils.clip_grad_norm_(net.parameters(), grad_clip)  # clip gradients to avoid exploding gradients\n",
    "        optimizer.step()\n",
    "        \n",
    "        if scheduler is not None:\n",
    "            scheduler.step()\n",
    "    return loss.item(), h_next, c_next, xb.squeeze().shape[0], n_correct"
   ]
  },
  {
   "cell_type": "code",
   "execution_count": 112,
   "metadata": {},
   "outputs": [],
   "source": [
    "def train(epochs, grad_clip=5, plot_every=100, checkpoint_dir=None):\n",
    "    h_next, c_next = init_hidden_and_cell_state(net.n_layers, net.hidden_dim)\n",
    "    h_next, c_next = h_next.to(device), c_next.to(device)\n",
    "    \n",
    "    plot_losses_train, plot_losses_eval = [], []\n",
    "    for ep in range(epochs):\n",
    "        running_loss, n_correct, n_samples, plot_loss_total = 0, 0, 0, 0\n",
    "        start_t = time.time()\n",
    "        \n",
    "        X, Y = get_data(data_train, max_transpose)\n",
    "        for i in range(X.shape[0]):\n",
    "            net.train()\n",
    "\n",
    "            xb, yb = torch.from_numpy(X[i]).unsqueeze(0), torch.from_numpy(Y[i])\n",
    "            xb, yb = xb.to(device), yb.to(device)\n",
    "            \n",
    "            loss, h_next, c_next, _, _  = loss_batch(net, criterion, xb, yb, (h_next, c_next), optimizer, scheduler) \n",
    "            running_loss += loss\n",
    "            plot_loss_total += loss\n",
    "            \n",
    "            # After forward pass: requires_grad = True for h and c. Reset this.\n",
    "            (h_next, c_next) = tuple(a.data for a in (h_next, c_next))\n",
    "            \n",
    "            if i % plot_every == 0:\n",
    "                plot_loss_avg = plot_loss_total / plot_every\n",
    "                plot_losses_train.append(plot_loss_avg)\n",
    "                plot_loss_total = 0\n",
    "            \n",
    "        time_elapsed = time_since(start_t)  # type=str\n",
    "        train_loss = running_loss / X.shape[0]\n",
    "        \n",
    "        net.eval()\n",
    "        h_next, c_next = init_hidden_and_cell_state(net.n_layers, net.hidden_dim)\n",
    "        h_next, c_next = h_next.to(device), c_next.to(device)\n",
    "        losses, nums, correct = [], [], []\n",
    "        with torch.no_grad():\n",
    "            X, Y = get_data(data_eval, max_transpose, shuffle=False, augmentation=False)\n",
    "            for i in range(X.shape[0]):\n",
    "                xb, yb = torch.from_numpy(X[i]).unsqueeze(0), torch.from_numpy(Y[i])\n",
    "                loss, h_next, c_next, n, cor = \\\n",
    "                    loss_batch(net, criterion, xb.to(device), yb.to(device), (h_next, c_next))\n",
    "                (h_next, c_next) = tuple(a.data for a in (h_next, c_next))\n",
    "                losses.append(loss)\n",
    "                nums.append(n)\n",
    "                correct.append(cor)\n",
    "        val_loss = np.sum(np.multiply(losses, nums)) / np.sum(nums)\n",
    "        val_acc = np.sum(correct) / np.sum(nums)\n",
    "        print(\"Epoch {}. train_loss: {:.4f}. val_loss: {:.4f}. val_acc: {:.4f}. {}s\"\n",
    "              .format(ep, train_loss, val_loss, val_acc, time_elapsed))\n",
    "        plot_losses_eval.append(val_loss)\n",
    "        \n",
    "        if checkpoint_dir is not None:\n",
    "            Path(checkpoint_dir).mkdir(exist_ok=True, parents=True)\n",
    "            cn = checkpoint_dir/\"{}_epoch{}_{:.6f}.net\".format(type(net).__name__, ep, val_loss)\n",
    "            save_checkpoint(net, cn)\n",
    "        start_t = time.time()\n",
    "    show_plot(plot_losses_train, plot_losses_eval, plot_every, batches_per_epoch)"
   ]
  },
  {
   "cell_type": "code",
   "execution_count": 113,
   "metadata": {},
   "outputs": [],
   "source": [
    "@torch.no_grad()\n",
    "def sample(seed_chars, seq_len, top_k=5):\n",
    "    \"\"\"\n",
    "    Sample output from the network, given an initial seed_idx.\n",
    "    \n",
    "    Input:\n",
    "    seed_chars: string of seed character(s) to initialize the network with.\n",
    "    seq_len: number of characters to sample from the network.\n",
    "    \n",
    "    \"\"\"\n",
    "    h_next, c_next = init_hidden_and_cell_state(net.n_layers, net.hidden_dim)\n",
    "    h_next, c_next = h_next.to(device), c_next.to(device)\n",
    "    hc = (h_next, c_next)\n",
    "    \n",
    "    seed_idx = [enc_to_idx[c] for c in seed_chars]\n",
    "    idxs = seed_idx[:]\n",
    "    seed_idx = torch.LongTensor(seed_idx).view(1, -1)\n",
    "    seed_idx = seed_idx.to(device)\n",
    "    \n",
    "    net.eval()\n",
    "    \n",
    "    # 'warm up' the hidden and cell state by runnning the seed characters through the network.\n",
    "    scores, hc = net(seed_idx, hc)\n",
    "        \n",
    "    # Sample characters, feeding the highest scoring character back into the network.\n",
    "    scores = scores[-1, :]#.view(1, 1, -1)\n",
    "    for i in range(seq_len):\n",
    "        ps = F.softmax(scores, dim=0).data.cpu()\n",
    "        ps, top_idx = ps.topk(top_k)\n",
    "        \n",
    "        top_idx = top_idx.numpy().squeeze()\n",
    "        ps = ps.numpy().squeeze()\n",
    "        \n",
    "        next_idx = np.random.choice(top_idx, p=ps/ps.sum())\n",
    "        idxs.append(next_idx)\n",
    "        next_idx = torch.LongTensor([next_idx]).to(device).view(1, -1)\n",
    "       \n",
    "        scores, hc = net(next_idx, hc)\n",
    "    return ''.join([idx_to_enc[idx] for idx in idxs])"
   ]
  },
  {
   "cell_type": "code",
   "execution_count": 114,
   "metadata": {
    "scrolled": false
   },
   "outputs": [
    {
     "name": "stdout",
     "output_type": "stream",
     "text": [
      "Epoch 0. train_loss: 0.7615. val_loss: 0.8132. val_acc: 0.8213. 5:14s\n",
      "Epoch 1. train_loss: 0.5067. val_loss: 0.7885. val_acc: 0.7913. 5:11s\n",
      "Epoch 2. train_loss: 0.4399. val_loss: 0.5923. val_acc: 0.8509. 5:16s\n",
      "Epoch 3. train_loss: 0.4019. val_loss: 0.5726. val_acc: 0.8626. 5:9s\n",
      "Epoch 4. train_loss: 0.3771. val_loss: 0.5454. val_acc: 0.8684. 5:10s\n",
      "Epoch 5. train_loss: 0.3562. val_loss: 0.5391. val_acc: 0.8608. 5:11s\n",
      "Epoch 6. train_loss: 0.3456. val_loss: 0.5101. val_acc: 0.8711. 5:12s\n",
      "Epoch 7. train_loss: 0.3270. val_loss: 0.5293. val_acc: 0.8664. 5:12s\n",
      "Epoch 8. train_loss: 0.3124. val_loss: 0.5183. val_acc: 0.8666. 5:13s\n"
     ]
    },
    {
     "data": {
      "image/png": "[encoded data removed]",
      "text/plain": [
       "<Figure size 432x288 with 1 Axes>"
      ]
     },
     "metadata": {
      "needs_background": "light"
     },
     "output_type": "display_data"
    }
   ],
   "source": [
    "train(epochs)"
   ]
  },
  {
   "cell_type": "markdown",
   "metadata": {},
   "source": [
    "## Results"
   ]
  },
  {
   "cell_type": "markdown",
   "metadata": {},
   "source": [
    "Now that we've trained our model, let's sample some predictions. Note that the output of the LSTM is still encoded, so we have to use `deprocess.py` and `csvtomidi.py` in order to turn the sample into a MIDI file."
   ]
  },
  {
   "cell_type": "code",
   "execution_count": 115,
   "metadata": {
    "scrolled": true
   },
   "outputs": [
    {
     "data": {
      "text/plain": [
       "'                                   u u u u u u u u u u u u u u u u u u u u u       z z z z z z z z z z z z z z z z s s s s s q q q r r s s u u u u s s s s s s s s s s s s s u u u u u u u v v v v v v v v'"
      ]
     },
     "execution_count": 115,
     "metadata": {},
     "output_type": "execute_result"
    }
   ],
   "source": [
    "sample('  ', 200)  # result is still encoded"
   ]
  },
  {
   "cell_type": "code",
   "execution_count": 106,
   "metadata": {},
   "outputs": [],
   "source": [
    "# Start with a neutral seed: a few silent notes.\n",
    "seed = '   '\n",
    "out = sample(seed, 30000, top_k=10)  # sequence of length 100 is +- 1 sec of music\n",
    "(path/'out1.txt').write_text(out);"
   ]
  },
  {
   "cell_type": "code",
   "execution_count": 103,
   "metadata": {},
   "outputs": [],
   "source": [
    "# Initialize the network with the first 7 seconds of Contrapunctus I of the Art of Fugue.\n",
    "seed = 'F F F F F F F F F F F F F F F F F F F F F F F F F F F F F F F F M M M M M M M M M M M M M M M M M M M M M M M M M M M M M M M M I I I I I I I I I I I I I I I I I I I I I I I I I I I I I I I I F F F F F F F F F F F F F F F F F F F F F F F F F F F F F F F F E E E E E E E E E E E E E E E E E E E E E E E E E E E E E E E E F F F F F F F F F F F F F F F F H H H H H H H H H H H H H H H H I I I I I I I I I I I I I I I I I I I I I I I I I I I I I I I I I I I I I I I I K K K K K K K K I I I I I I I I H H H H H H H H FM FM FM FM FM FM FM FM FM FM FM FM FM FM FM FM'\n",
    "out = sample(seed, 30000, top_k=10)  # sequence of length 100 is +- 1 sec of music\n",
    "(path/'out2.txt').write_text(out);"
   ]
  },
  {
   "cell_type": "code",
   "execution_count": null,
   "metadata": {},
   "outputs": [],
   "source": [
    "# Turn the output into a MIDI file.\n",
    "!python deprocess.py -i out1.txt -o tmp.txt --tempo 250000\n",
    "!python csvtomidi.py -i tmp.txt -o out1.mid"
   ]
  },
  {
   "cell_type": "code",
   "execution_count": null,
   "metadata": {},
   "outputs": [],
   "source": []
  }
 ],
 "metadata": {
  "kernelspec": {
   "display_name": "Python 3",
   "language": "python",
   "name": "python3"
  },
  "language_info": {
   "codemirror_mode": {
    "name": "ipython",
    "version": 3
   },
   "file_extension": ".py",
   "mimetype": "text/x-python",
   "name": "python",
   "nbconvert_exporter": "python",
   "pygments_lexer": "ipython3",
   "version": "3.7.4"
  }
 },
 "nbformat": 4,
 "nbformat_minor": 4
}
